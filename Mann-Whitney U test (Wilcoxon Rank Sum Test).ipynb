{
 "cells": [
  {
   "cell_type": "code",
   "execution_count": 2,
   "metadata": {},
   "outputs": [
    {
     "name": "stdout",
     "output_type": "stream",
     "text": [
      "sample_A : [2, 3, 3, 5, 7, 9]\n",
      "sample_B : [4, 8, 8, 10, 12, 14]\n",
      "{2: 1, 3: 2.5, 4: 4, 5: 5, 7: 6, 8: 7.5, 9: 9, 10: 10, 12: 11, 14: 12}\n",
      "rank_A sum:  26.0\n",
      "rank_B sum:  52.0\n",
      "Mean Rank_A:  4.333333333333333\n",
      "Mean Rank_B:  8.666666666666666\n",
      "U1:  5.0\n",
      "U2:  31.0\n",
      "Uobs:  5.0\n",
      "Find U Critical From Mann Whitey U table for N1 and N2 where n1 and n2 are lengths os sample \n",
      "we reject H0 \n"
     ]
    }
   ],
   "source": [
    "sample_A=[3,2,5,9,7,3]\n",
    "sample_B=[4,14,8,12,8,10]\n",
    "sample_A.sort()\n",
    "sample_B.sort()\n",
    "print(\"sample_A :\",sample_A)\n",
    "print(\"sample_B :\",sample_B)\n",
    "sorted_list=[]\n",
    "for each in sample_A:\n",
    "    sorted_list.append(each)\n",
    "for each in sample_B:\n",
    "    sorted_list.append(each)\n",
    "sorted_list.sort()\n",
    "\n",
    "rank={}\n",
    "for each in sorted_list:\n",
    "    repeat=sorted_list.count(each)\n",
    "    if(repeat==1):\n",
    "        rank[each]=sorted_list.index(each)+1\n",
    "        \n",
    "    else:\n",
    "        total=0\n",
    "        index=sorted_list.index(each)\n",
    "        for i in range(repeat):\n",
    "            total+=index\n",
    "            index=index+1\n",
    "        rank[each]=((total+repeat)/repeat)\n",
    "print(rank)\n",
    "rank_A=0\n",
    "rank_B=0\n",
    "for each in sample_A:\n",
    "    rank_A+=rank[each]\n",
    "for each in sample_B:\n",
    "    rank_B+=rank[each]\n",
    "                     \n",
    "print(\"rank_A sum: \",rank_A)\n",
    "print(\"rank_B sum: \",rank_B)\n",
    "print(\"Mean Rank_A: \",rank_A/len(sample_A))\n",
    "print(\"Mean Rank_B: \",rank_B/len(sample_B))\n",
    "U1=rank_A-((len(sample_A)) * (len(sample_A)+1)/2)\n",
    "U2=rank_B-((len(sample_B)) * (len(sample_B)+1)/2)\n",
    "print(\"U1: \",U1)\n",
    "print(\"U2: \",U2)\n",
    "Uobs=min(U1,U2)\n",
    "print(\"Uobs: \",Uobs)\n",
    "print(\"Find U Critical From Mann Whitey U table for N1 and N2 where n1 and n2 are lengths os sample \")\n",
    "\n",
    "#xaxis=len(sample_A) and yaxis=len(sample_B),Tw0 tailed, and alpha=0.05\n",
    "UCritical=5\n",
    "if(UCritical<Uobs):\n",
    "    print(\" we accept H0, I.e the population is equal\")\n",
    "else:\n",
    "    print(\"we reject H0 \")\n",
    "\n",
    "\n"
   ]
  },
  {
   "cell_type": "code",
   "execution_count": 6,
   "metadata": {},
   "outputs": [
    {
     "name": "stdout",
     "output_type": "stream",
     "text": [
      "Concordance_Probability_A:  0.88\n",
      "Concordance_Probability_B:  0.12\n",
      "Iterpretation: there is a 13% chance that a randomly chosen woman will have a higher value than a randomly chosen man\n"
     ]
    }
   ],
   "source": [
    "#-----------------------------Effect Size and Concordance Probability--------------\n",
    "Concordance_Probability_A=U1/(len(sample_A) * len(sample_B))\n",
    "Concordance_Probability_B=U2/(len(sample_A) * len(sample_B))\n",
    "print(\"Concordance_Probability_A: \",Concordance_Probability_A)\n",
    "print(\"Concordance_Probability_B: \",Concordance_Probability_B)\n",
    "print(\"Iterpretation: there is a 13% chance that a randomly chosen woman will have a higher value than a randomly chosen man\")"
   ]
  },
  {
   "cell_type": "code",
   "execution_count": null,
   "metadata": {},
   "outputs": [],
   "source": []
  },
  {
   "cell_type": "code",
   "execution_count": null,
   "metadata": {},
   "outputs": [],
   "source": []
  },
  {
   "cell_type": "code",
   "execution_count": null,
   "metadata": {},
   "outputs": [],
   "source": []
  },
  {
   "cell_type": "code",
   "execution_count": null,
   "metadata": {},
   "outputs": [],
   "source": []
  }
 ],
 "metadata": {
  "kernelspec": {
   "display_name": "Python 3",
   "language": "python",
   "name": "python3"
  },
  "language_info": {
   "codemirror_mode": {
    "name": "ipython",
    "version": 3
   },
   "file_extension": ".py",
   "mimetype": "text/x-python",
   "name": "python",
   "nbconvert_exporter": "python",
   "pygments_lexer": "ipython3",
   "version": "3.8.5"
  }
 },
 "nbformat": 4,
 "nbformat_minor": 4
}
