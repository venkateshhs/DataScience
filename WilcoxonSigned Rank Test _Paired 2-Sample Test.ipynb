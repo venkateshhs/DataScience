{
 "cells": [
  {
   "cell_type": "code",
   "execution_count": 20,
   "metadata": {},
   "outputs": [
    {
     "name": "stdout",
     "output_type": "stream",
     "text": [
      "difference [1.3999999999999986, 1.1000000000000014, 1.5, 1.0999999999999979, -0.09999999999999787, 1.0999999999999979, 1.5, 1.2999999999999972, 0.8000000000000007, 1.5999999999999979]\n",
      "Preferring Sample_data_1: 9\n",
      "Preferring Sample_data_2: 1\n",
      "Tie: 0\n",
      "All Probabilities : [0.001, 0.01, 0.044, 0.117, 0.205, 0.246, 0.205, 0.117, 0.044, 0.01, 0.001]\n",
      "0 0.001\n",
      "1 0.01\n",
      "9 0.01\n",
      "10 0.001\n",
      "total_probability : 0.022\n",
      "total_probability is lesser than alpha hence We reject HO:  0.022\n"
     ]
    }
   ],
   "source": [
    "#-----------------------------WilcoxonSigned Rank Test or Non-Parametric Paired 2-Sample Test\n",
    "from math import comb\n",
    "\n",
    "sample_data_1=[27.7,32.1,29.6,29.2,27.8,26.9,29.7,28.9,27.3,29.9]\n",
    "sample_data_2=[26.3,31,28.1,28.1,27.9,25.8,28.2,27.6,26.5,28.3]\n",
    "alpha=0.05\n",
    "difference=[]\n",
    "positive_sign=0\n",
    "negative_sign=0\n",
    "tie=0\n",
    "for i in range(len(sample_data_1)):\n",
    "    difference.append(sample_data_1[i]-sample_data_2[i])\n",
    "    \n",
    "    if((sample_data_1[i]-sample_data_2[i])<0):\n",
    "        negative_sign+=1\n",
    "    elif((sample_data_1[i]-sample_data_2[i])>0):\n",
    "        positive_sign+=1\n",
    "    else:\n",
    "        tie+=1\n",
    "print(\"difference\",difference)\n",
    "print(\"Preferring Sample_data_1:\",positive_sign)\n",
    "print(\"Preferring Sample_data_2:\",negative_sign)\n",
    "print(\"Tie:\",tie)\n",
    "\n",
    "#-------------------For fnding if product A is preferred over B\n",
    "#find probability of p(total)=p(0)+p(1)+p(2) + p(7)+ p(8)+ p(9)+ p(10) because 2 people prefer A over B (Positive sign) and\n",
    "#7 negative sign\n",
    "#Always p(<lesser number) and p(>greaternumber)\n",
    "#Find this probability from binomial distribution table\n",
    "#p(total) < given alpha , reject H0\n",
    "\n",
    "\n",
    "probability=0.5 #Observing head in a fair coin\n",
    "lesserNumber=min(positive_sign,negative_sign)\n",
    "largerNumber=max(positive_sign,negative_sign)\n",
    "\n",
    "probability_=[]\n",
    "for i in range(len(sample_data_1)+1):\n",
    "    probability_.append(round((comb(len(sample_data_1),i))*(probability**i)*(1-probability)**(len(sample_data_1)-i),3))\n",
    "print(\"All Probabilities :\",probability_)\n",
    "total_probability_=0\n",
    "for i in range(lesserNumber+1):    #Shows probability of 0,1,2,3 heads \n",
    "    total_probability_+=probability_[i]\n",
    "    print(i,probability_[i])\n",
    "    \n",
    "for i in range(largerNumber,len(sample_data_2)+1):    #Shows probability of 0,1,2,3 heads \n",
    "    total_probability_+=probability_[i]\n",
    "    print(i,probability_[i])\n",
    "    \n",
    "print(\"total_probability :\",total_probability_)\n",
    "if(total_probability_>alpha):\n",
    "    print(\"total_probability is greater hence We cannot reject HO/Accept H0: \",total_probability_)\n",
    "else:\n",
    "    print(\"total_probability is lesser than alpha hence We reject HO: \",total_probability_)\n"
   ]
  },
  {
   "cell_type": "code",
   "execution_count": null,
   "metadata": {},
   "outputs": [],
   "source": []
  }
 ],
 "metadata": {
  "kernelspec": {
   "display_name": "Python 3",
   "language": "python",
   "name": "python3"
  },
  "language_info": {
   "codemirror_mode": {
    "name": "ipython",
    "version": 3
   },
   "file_extension": ".py",
   "mimetype": "text/x-python",
   "name": "python",
   "nbconvert_exporter": "python",
   "pygments_lexer": "ipython3",
   "version": "3.8.5"
  }
 },
 "nbformat": 4,
 "nbformat_minor": 4
}
