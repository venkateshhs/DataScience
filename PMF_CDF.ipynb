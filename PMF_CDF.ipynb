{
 "cells": [
  {
   "cell_type": "code",
   "execution_count": 24,
   "metadata": {},
   "outputs": [
    {
     "name": "stdout",
     "output_type": "stream",
     "text": [
      "[0.07692307692307693, 0.15384615384615385, 0.15384615384615385, 0.23076923076923078, 0.38461538461538464]\n",
      "1.0\n"
     ]
    }
   ],
   "source": [
    "#--------------------------------PMF------------------------------------\n",
    "frequency=[2,3,4,5,6,7,8,9,10,11,12]\n",
    "count=0\n",
    "for each in frequency:\n",
    "    count+=each\n",
    "new_Frequency=[]\n",
    "prob=0\n",
    "for new in frequency:\n",
    "    new_Frequency.append(new/count)\n",
    "    prob+=(new/count)\n",
    "print(new_Frequency)\n",
    "print(prob)"
   ]
  },
  {
   "cell_type": "code",
   "execution_count": 8,
   "metadata": {},
   "outputs": [
    {
     "data": {
      "image/png": "[encoded data removed]",
      "text/plain": [
       "<Figure size 432x288 with 1 Axes>"
      ]
     },
     "metadata": {
      "needs_background": "light"
     },
     "output_type": "display_data"
    }
   ],
   "source": [
    "import matplotlib.pyplot as plt\n",
    "fig = plt.figure()\n",
    "ax = fig.add_axes([0,0,1,1])\n",
    "ax.bar(frequency,new_Frequency)\n",
    "plt.show()"
   ]
  },
  {
   "cell_type": "code",
   "execution_count": 1,
   "metadata": {},
   "outputs": [
    {
     "name": "stdout",
     "output_type": "stream",
     "text": [
      "Long Range Value or Expected Value is:  3.1999999999999997\n",
      "Using probability density of that value Expected Value is:  11.399999999999999\n"
     ]
    }
   ],
   "source": [
    "#---------------------Expectation--------------------------\n",
    "expectation_frequency=[1, 2, 2, 3, 4, 4, 4, 4, 4, 4]\n",
    "count=len(expectation_frequency)\n",
    "expectation=0\n",
    "\n",
    "for each in expectation_frequency:\n",
    "    expectation+=(each*(1/count))  #Using prbability of that value to occur \n",
    "print(\"Long Range Value or Expected Value is: \",expectation)\n",
    "\n",
    "\n",
    "expectation_1=0\n",
    "for each in expectation_frequency:\n",
    "    expectation_1+=(each*(each/count)) #----------------------Using probability density of that value\n",
    "print(\"Using probability density of that value Expected Value is: \",expectation_1)"
   ]
  },
  {
   "cell_type": "code",
   "execution_count": 3,
   "metadata": {},
   "outputs": [
    {
     "name": "stdout",
     "output_type": "stream",
     "text": [
      "[0.1, 0.3, 0.3, 0.4, 1.0, 1.0, 1.0, 1.0, 1.0, 1.0]\n"
     ]
    }
   ],
   "source": [
    "#---------------------------CDF-----------------------\n",
    "cdf_frequency=[1,2,2,3,4,4,4,4,4,4]\n",
    "count=[]\n",
    "for each in cdf_frequency:\n",
    "    count_1=0\n",
    "    for loop in cdf_frequency:      \n",
    "        if(loop<=each):\n",
    "            count_1+=1\n",
    "    count.append(count_1/len(cdf_frequency))\n",
    "print(count)"
   ]
  },
  {
   "cell_type": "code",
   "execution_count": null,
   "metadata": {},
   "outputs": [],
   "source": []
  }
 ],
 "metadata": {
  "kernelspec": {
   "display_name": "Python 3",
   "language": "python",
   "name": "python3"
  },
  "language_info": {
   "codemirror_mode": {
    "name": "ipython",
    "version": 3
   },
   "file_extension": ".py",
   "mimetype": "text/x-python",
   "name": "python",
   "nbconvert_exporter": "python",
   "pygments_lexer": "ipython3",
   "version": "3.8.5"
  }
 },
 "nbformat": 4,
 "nbformat_minor": 4
}
