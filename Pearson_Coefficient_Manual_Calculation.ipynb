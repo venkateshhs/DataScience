{
 "cells": [
  {
   "cell_type": "code",
   "execution_count": 1,
   "metadata": {},
   "outputs": [
    {
     "name": "stdout",
     "output_type": "stream",
     "text": [
      "mean_x:  26.142857142857142\n",
      "mean_y:  130.0\n",
      "sigma_x:  30.34562806825957\n",
      "sigma_y:  109.54451150103323\n",
      "cov_x_y:  2490.0\n",
      "PearsonCoefficient:  0.7490530789257138\n"
     ]
    }
   ],
   "source": [
    "import numpy as np\n",
    "import math\n",
    "sample_x=[30,40,40,20,12,31,10]\n",
    "sample_y=[160,160,170,50,110,160,100]\n",
    "mean_x=np.mean(sample_x)\n",
    "mean_y=np.mean(sample_y)\n",
    "sigma_x=0\n",
    "sigma_y=0\n",
    "for each in sample_x:\n",
    "    sigma_x+=(each-mean_x)**2\n",
    "sigma_x=math.sqrt(sigma_x)\n",
    "for each in sample_y:\n",
    "    sigma_y+=(each-mean_y)**2\n",
    "sigma_y=math.sqrt(sigma_y)\n",
    "print(\"mean_x: \",mean_x)\n",
    "print(\"mean_y: \",mean_y)\n",
    "print(\"sigma_x: \",sigma_x)\n",
    "print(\"sigma_y: \",sigma_y)\n",
    "cov_x_y=0\n",
    "for i in range(len(sample_x)):\n",
    "    cov_x_y+=(sample_x[i]-mean_x)*(sample_y[i]-mean_y)\n",
    "print(\"cov_x_y: \",cov_x_y)\n",
    "print(\"PearsonCoefficient: \",cov_x_y/(sigma_x*sigma_y))"
   ]
  },
  {
   "cell_type": "code",
   "execution_count": null,
   "metadata": {},
   "outputs": [],
   "source": []
  }
 ],
 "metadata": {
  "kernelspec": {
   "display_name": "Python 3",
   "language": "python",
   "name": "python3"
  },
  "language_info": {
   "codemirror_mode": {
    "name": "ipython",
    "version": 3
   },
   "file_extension": ".py",
   "mimetype": "text/x-python",
   "name": "python",
   "nbconvert_exporter": "python",
   "pygments_lexer": "ipython3",
   "version": "3.8.5"
  }
 },
 "nbformat": 4,
 "nbformat_minor": 4
}
