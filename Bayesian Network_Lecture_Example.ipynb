{
 "cells": [
  {
   "cell_type": "code",
   "execution_count": 9,
   "metadata": {},
   "outputs": [
    {
     "name": "stdout",
     "output_type": "stream",
     "text": [
      "P_rain_true_given_Grass_true: 0.35768767563227616\n",
      "P_rain_true_given_Sprinkler_true: 0.0062111801242236\n",
      "P_rain_true_given_Grass_false: 0.07182480693230847\n",
      "P_rain_true_given_Sprinkler_false: 0.29203539823008856\n",
      "------------------------------------------------------------------------\n",
      "P_rain_false_given_Grass_true: 0.6423123243677238\n",
      "P_rain_false_given_Sprinkler_true: 0.9937888198757764\n",
      "P_rain_false_given_Grass_false: 0.9281751930676916\n",
      "P_rain_false_given_Sprinkler_false: 0.7079646017699115\n"
     ]
    }
   ],
   "source": [
    "rain_true=0.2\n",
    "rain_false=0.8\n",
    "\n",
    "rain_true_sprinkle_true=0.01\n",
    "rain_true_sprinkle_false=0.99\n",
    "rain_false_sprinkle_true=0.4\n",
    "rain_false_sprinkle_false=0.6\n",
    "\n",
    "rain_true_sprinkle_true_Grass_true=0.99\n",
    "rain_true_sprinkle_true_Grass_false=0.01\n",
    "\n",
    "rain_true_sprinkle_false_Grass_true=0.8\n",
    "rain_true_sprinkle_false_Grass_false=0.2\n",
    "\n",
    "rain_false_sprinkle_true_Grass_true=0.9\n",
    "rain_false_sprinkle_true_Grass_false=0.1\n",
    "\n",
    "rain_false_sprinkle_false_Grass_true=0\n",
    "rain_false_sprinkle_false_Grass_false=1\n",
    "\n",
    "TTT=rain_true*rain_true_sprinkle_true*rain_true_sprinkle_true_Grass_true\n",
    "TTF=rain_true*rain_true_sprinkle_true*rain_true_sprinkle_true_Grass_false\n",
    "TFT=rain_true*rain_true_sprinkle_false*rain_true_sprinkle_false_Grass_true\n",
    "FTT=rain_false*rain_false_sprinkle_true*rain_false_sprinkle_true_Grass_true\n",
    "FFT=rain_false*rain_false_sprinkle_false*rain_false_sprinkle_false_Grass_true\n",
    "FFF=rain_false*rain_false_sprinkle_false*rain_false_sprinkle_false_Grass_false\n",
    "FTF=rain_false*rain_false_sprinkle_true*rain_false_sprinkle_true_Grass_false\n",
    "TFF=rain_true*rain_true_sprinkle_false*rain_true_sprinkle_false_Grass_false\n",
    "\n",
    "P_rain_true_given_Grass_true=(TTT+TFT)/(TTT+TFT+FTT+FFT)\n",
    "P_rain_true_given_Sprinkler_true=(TTT+TTF)/(TTT+TTF+FTT+FTF)\n",
    "P_rain_true_given_Grass_false=(TTF+TFF)/(TTF+FFF+FTF+TFF)\n",
    "P_rain_true_given_Sprinkler_false=(TFT+TFF)/(TFT+FFT+FFF+TFF)\n",
    "\n",
    "\n",
    "\n",
    "\n",
    "print(\"P_rain_true_given_Grass_true:\",P_rain_true_given_Grass_true)\n",
    "print(\"P_rain_true_given_Sprinkler_true:\",P_rain_true_given_Sprinkler_true)\n",
    "print(\"P_rain_true_given_Grass_false:\",P_rain_true_given_Grass_false)\n",
    "print(\"P_rain_true_given_Sprinkler_false:\",P_rain_true_given_Sprinkler_false)\n",
    "print(\"------------------------------------------------------------------------\")\n",
    "print(\"P_rain_false_given_Grass_true:\",1-P_rain_true_given_Grass_true)\n",
    "print(\"P_rain_false_given_Sprinkler_true:\",1-P_rain_true_given_Sprinkler_true)\n",
    "print(\"P_rain_false_given_Grass_false:\",1-P_rain_true_given_Grass_false)\n",
    "print(\"P_rain_false_given_Sprinkler_false:\",1-P_rain_true_given_Sprinkler_false)"
   ]
  },
  {
   "cell_type": "code",
   "execution_count": null,
   "metadata": {},
   "outputs": [],
   "source": []
  }
 ],
 "metadata": {
  "kernelspec": {
   "display_name": "Python 3",
   "language": "python",
   "name": "python3"
  },
  "language_info": {
   "codemirror_mode": {
    "name": "ipython",
    "version": 3
   },
   "file_extension": ".py",
   "mimetype": "text/x-python",
   "name": "python",
   "nbconvert_exporter": "python",
   "pygments_lexer": "ipython3",
   "version": "3.8.5"
  }
 },
 "nbformat": 4,
 "nbformat_minor": 4
}
