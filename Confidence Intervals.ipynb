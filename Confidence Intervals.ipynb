{
 "cells": [
  {
   "cell_type": "code",
   "execution_count": 1,
   "metadata": {},
   "outputs": [
    {
     "name": "stdout",
     "output_type": "stream",
     "text": [
      "StandardError:  3.9633335085505985\n",
      "margin_Of_Error:  7.768133676759173\n",
      "confidence_Interval:  [251.10186632324084, 266.6381336767592]\n"
     ]
    }
   ],
   "source": [
    "#-------------------------------Variant 1 To find CI\n",
    "import math\n",
    "n=200\n",
    "sample_mean=258.87\n",
    "standard_deviation=56.05\n",
    "CI=95   #[Means 95 percent]\n",
    "\n",
    "# Find (1-alpha/2) in table , here its 1-(0.05)/2  =0.9750\n",
    "#Now find 0.9750 in table , add x axis value and Y axis value \n",
    "#that is 1.9+0.06 =1.96\n",
    "\n",
    "ZAlpha =1.96  #-------------------------------------Enter From Table\n",
    "\n",
    "\n",
    "alpha=(100-CI)/100\n",
    "\n",
    "StandardError=standard_deviation/math.sqrt(n)\n",
    "\n",
    "margin_Of_Error=StandardError*ZAlpha\n",
    "confidence_Interval=[sample_mean-margin_Of_Error,sample_mean+margin_Of_Error]\n",
    "print(\"StandardError: \",StandardError)\n",
    "print(\"margin_Of_Error: \",margin_Of_Error)\n",
    "print(\"confidence_Interval: \",confidence_Interval)"
   ]
  },
  {
   "cell_type": "code",
   "execution_count": 2,
   "metadata": {},
   "outputs": [
    {
     "name": "stdout",
     "output_type": "stream",
     "text": [
      "sample_Size: 6146.560000000001\n"
     ]
    }
   ],
   "source": [
    "#----------------------------Variant 2  To Find N \n",
    "MOE=0.5\n",
    "SD=20\n",
    "Con_Inter=95\n",
    "ZAlpha_=1.96   # For 95 percent confidence interval , zAlpha/2 is always 1.96\n",
    "\n",
    "alpha_=(100-Con_Inter)/100\n",
    "sample_Size=math.pow((SD*ZAlpha_)/MOE,2)\n",
    "print(\"sample_Size:\",sample_Size)"
   ]
  },
  {
   "cell_type": "code",
   "execution_count": 3,
   "metadata": {},
   "outputs": [
    {
     "name": "stdout",
     "output_type": "stream",
     "text": [
      "StandardError:  0.009486832980505136\n",
      "margin_Of_Error:  0.018594192641790068\n",
      "confidence_Interval:  [0.88140580735821, 0.9185941926417901]\n"
     ]
    }
   ],
   "source": [
    "#-----------------------Variant 3 Where probability/Proportion is given\n",
    "n1=1000\n",
    "p_cap=900/1000\n",
    "\n",
    "CI_1=95   #[Means 95 percent]\n",
    "\n",
    "# Find (1-alpha/2) in table , here its 1-(0.05)/2  =0.9750\n",
    "#Now find 0.9750 in table , add x axis value and Y axis value \n",
    "#that is 1.9+0.06 =1.96\n",
    "\n",
    "ZAlpha_1 =1.96  #-------------------------------------Enter From Table\n",
    "\n",
    "\n",
    "StandardError_1=math.sqrt((p_cap*(1-p_cap))/n1)\n",
    "\n",
    "margin_Of_Error_1=StandardError_1*ZAlpha_1\n",
    "confidence_Interval_1=[p_cap-margin_Of_Error_1,p_cap+margin_Of_Error_1]\n",
    "print(\"StandardError: \",StandardError_1)\n",
    "print(\"margin_Of_Error: \",margin_Of_Error_1)\n",
    "print(\"confidence_Interval: \",confidence_Interval_1)"
   ]
  },
  {
   "cell_type": "code",
   "execution_count": 4,
   "metadata": {},
   "outputs": [
    {
     "name": "stdout",
     "output_type": "stream",
     "text": [
      "sample_Size: 6146.559999999999\n"
     ]
    }
   ],
   "source": [
    "#-----------------------Variant 4 MOE ,p cap  given, Find N\n",
    "p_cap=400/500\n",
    "\n",
    "CI_1=95   #[Means 95 percent]\n",
    "\n",
    "# Find (1-alpha/2) in table , here its 1-(0.05)/2  =0.9750\n",
    "#Now find 0.9750 in table , add x axis value and Y axis value \n",
    "#that is 1.9+0.06 =1.96\n",
    "\n",
    "ZAlpha_1 =1.96  #-------------------------------------Enter From Table\n",
    "\n",
    "MOE=0.01\n",
    "\n",
    "sample_Size_1=math.pow(((ZAlpha_1*math.sqrt(p_cap*(1-p_cap))))/MOE,2)\n",
    "print(\"sample_Size:\",sample_Size_1)"
   ]
  },
  {
   "cell_type": "code",
   "execution_count": null,
   "metadata": {},
   "outputs": [],
   "source": []
  },
  {
   "cell_type": "code",
   "execution_count": null,
   "metadata": {},
   "outputs": [],
   "source": []
  }
 ],
 "metadata": {
  "kernelspec": {
   "display_name": "Python 3",
   "language": "python",
   "name": "python3"
  },
  "language_info": {
   "codemirror_mode": {
    "name": "ipython",
    "version": 3
   },
   "file_extension": ".py",
   "mimetype": "text/x-python",
   "name": "python",
   "nbconvert_exporter": "python",
   "pygments_lexer": "ipython3",
   "version": "3.8.5"
  }
 },
 "nbformat": 4,
 "nbformat_minor": 4
}
