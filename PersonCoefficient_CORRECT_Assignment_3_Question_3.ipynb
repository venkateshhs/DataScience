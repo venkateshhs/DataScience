{
 "cells": [
  {
   "cell_type": "raw",
   "metadata": {},
   "source": [
    "Name:Venkatesh Hariharapura Shivashankar\n",
    "Matriculation Number:220200713"
   ]
  },
  {
   "cell_type": "code",
   "execution_count": 1,
   "metadata": {},
   "outputs": [],
   "source": [
    "import numpy as np\n",
    "import matplotlib.pyplot as plt\n",
    "from sklearn.linear_model import LinearRegression\n",
    "import pandas as pd\n",
    "from scipy.stats import pearsonr\n",
    "%matplotlib inline\n",
    "\n",
    "x=np.array([30,40,40,20,12,31,10]).reshape((-1,1))\n",
    "y=np.array([160,160,170,50,110,160,100])"
   ]
  },
  {
   "cell_type": "code",
   "execution_count": 2,
   "metadata": {},
   "outputs": [
    {
     "name": "stdout",
     "output_type": "stream",
     "text": [
      "Pearson Correlation is :0.7491\n"
     ]
    }
   ],
   "source": [
    "corr, _ =pearsonr(x.reshape(-1),y)\n",
    "print(\"Pearson Correlation is :%.4f\" % corr)"
   ]
  },
  {
   "cell_type": "code",
   "execution_count": 3,
   "metadata": {},
   "outputs": [
    {
     "name": "stdout",
     "output_type": "stream",
     "text": [
      "Coefficient of determination:  0.5610805150480918\n"
     ]
    }
   ],
   "source": [
    "model = LinearRegression().fit(x,y)\n",
    "coDetermination=model.score(x,y)\n",
    "print('Coefficient of determination: ',coDetermination)"
   ]
  },
  {
   "cell_type": "code",
   "execution_count": 4,
   "metadata": {},
   "outputs": [
    {
     "name": "stdout",
     "output_type": "stream",
     "text": [
      "Predicted [140.42972386 167.46974868 167.46974868 113.38969904  91.75767918\n",
      " 143.13372634  86.34967422]\n"
     ]
    }
   ],
   "source": [
    "regressionLine=model.predict(x)\n",
    "print('Predicted' ,regressionLine)"
   ]
  },
  {
   "cell_type": "code",
   "execution_count": 5,
   "metadata": {},
   "outputs": [
    {
     "name": "stdout",
     "output_type": "stream",
     "text": [
      "New Linear Regression Line Equation:\n",
      "y =  2.7040024821594786 *x +  59.30964939497363\n"
     ]
    }
   ],
   "source": [
    "print(\"New Linear Regression Line Equation:\")\n",
    "print(\"y = \",float(model.coef_),\"*x + \",model.intercept_)"
   ]
  },
  {
   "cell_type": "code",
   "execution_count": 6,
   "metadata": {},
   "outputs": [
    {
     "data": {
      "image/png": "[encoded data removed]",
      "text/plain": [
       "<Figure size 432x288 with 1 Axes>"
      ]
     },
     "metadata": {
      "needs_background": "light"
     },
     "output_type": "display_data"
    }
   ],
   "source": [
    "realValue=plt.scatter(x,y)\n",
    "plt.plot(x,regressionLine,color='blue')\n",
    "predicted=plt.scatter(x,regressionLine,color='red')\n",
    "plt.legend((realValue,predicted),\n",
    "          ('Real y','Predicted y'),\n",
    "          loc='lower right',\n",
    "          scatterpoints=1,ncol=300,fontsize=8)\n",
    "plt.xlabel('Age')\n",
    "plt.ylabel('Body Size')\n",
    "plt.show()"
   ]
  },
  {
   "cell_type": "code",
   "execution_count": 7,
   "metadata": {},
   "outputs": [
    {
     "name": "stdout",
     "output_type": "stream",
     "text": [
      "b0 =  59.30964939497363\n",
      "b1 =  [2.70400248]\n"
     ]
    }
   ],
   "source": [
    "print('b0 = ',model.intercept_)\n",
    "print('b1 = ',model.coef_)"
   ]
  },
  {
   "cell_type": "markdown",
   "metadata": {},
   "source": []
  }
 ],
 "metadata": {
  "kernelspec": {
   "display_name": "Python 3",
   "language": "python",
   "name": "python3"
  },
  "language_info": {
   "codemirror_mode": {
    "name": "ipython",
    "version": 3
   },
   "file_extension": ".py",
   "mimetype": "text/x-python",
   "name": "python",
   "nbconvert_exporter": "python",
   "pygments_lexer": "ipython3",
   "version": "3.8.5"
  }
 },
 "nbformat": 4,
 "nbformat_minor": 4
}
