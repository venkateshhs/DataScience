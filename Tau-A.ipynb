{
 "cells": [
  {
   "cell_type": "code",
   "execution_count": 1,
   "metadata": {},
   "outputs": [
    {
     "name": "stdout",
     "output_type": "stream",
     "text": [
      "[1, 2, 4, 3, 6, 5, 8, 7, 10, 9, 12, 11]\n",
      "[1, 2, 3, 4, 5, 6, 7, 8, 9, 10, 11, 12]\n"
     ]
    }
   ],
   "source": [
    "sample_1_toSort=[1,2,3,4,5,6,7,8,9,10,11,12]  # Sample 1\n",
    "sample_2=[1,2,4,3,6,5,8,7,10,9,12,11]\n",
    "sample_unsorted=[1,2,3,4,5,6,7,8,9,10,11,12]  # Sample 1\n",
    "sorted_3=[]\n",
    "sample_1_toSort.sort()\n",
    "\n",
    "for i in range(len(sample_1_toSort)):\n",
    "    index=sample_unsorted.index(sample_1_toSort[i])\n",
    "    sorted_3.insert(i,sample_2[index])\n",
    "print(sorted_3)\n",
    "print(sample_1_toSort)"
   ]
  },
  {
   "cell_type": "code",
   "execution_count": 2,
   "metadata": {},
   "outputs": [
    {
     "name": "stdout",
     "output_type": "stream",
     "text": [
      "concordant_pair: [[1, 2], [1, 4], [1, 3], [1, 6], [1, 5], [1, 8], [1, 7], [1, 10], [1, 9], [1, 12], [1, 11], [2, 4], [2, 3], [2, 6], [2, 5], [2, 8], [2, 7], [2, 10], [2, 9], [2, 12], [2, 11], [4, 6], [4, 5], [4, 8], [4, 7], [4, 10], [4, 9], [4, 12], [4, 11], [3, 6], [3, 5], [3, 8], [3, 7], [3, 10], [3, 9], [3, 12], [3, 11], [6, 8], [6, 7], [6, 10], [6, 9], [6, 12], [6, 11], [5, 8], [5, 7], [5, 10], [5, 9], [5, 12], [5, 11], [8, 10], [8, 9], [8, 12], [8, 11], [7, 10], [7, 9], [7, 12], [7, 11], [10, 12], [10, 11], [9, 12], [9, 11]]\n",
      "concordant_count:  61\n",
      "discordant_pair:  [[4, 3], [6, 5], [8, 7], [10, 9], [12, 11]]\n",
      "discordant_count:  5\n",
      "Tau-A:  0.8484848484848485\n"
     ]
    }
   ],
   "source": [
    "#-Concordant \n",
    "concordant_count=0\n",
    "concordant_pair=[]\n",
    "for i in range(len(sorted_3)):\n",
    "    for j in range(len(sorted_3)-1):\n",
    "        if(sorted_3[j+1]>sorted_3[i] and j>=i):\n",
    "            concordant_pair.append([sorted_3[i],sorted_3[j+1]])\n",
    "            concordant_count+=1\n",
    "print(\"concordant_pair:\",concordant_pair)\n",
    "print(\"concordant_count: \",concordant_count)\n",
    "#Discordant Pairs\n",
    "discordant_count=0\n",
    "discordant_pair=[]\n",
    "for i in range(len(sorted_3)):\n",
    "    for j in range(len(sorted_3)-1):\n",
    "        if(sorted_3[j+1]<sorted_3[i] and j>=i):\n",
    "            discordant_pair.append([sorted_3[i],sorted_3[j+1]])\n",
    "            discordant_count+=1\n",
    "print(\"discordant_pair: \",discordant_pair)\n",
    "print(\"discordant_count: \",discordant_count)\n",
    "\n",
    "\n",
    "#Kendall Tau A\n",
    "n=len(sample_2)\n",
    "tau=(concordant_count-discordant_count)/(0.5*n*(n-1))\n",
    "print(\"Tau-A: \",tau)"
   ]
  },
  {
   "cell_type": "code",
   "execution_count": null,
   "metadata": {},
   "outputs": [],
   "source": []
  },
  {
   "cell_type": "code",
   "execution_count": null,
   "metadata": {},
   "outputs": [],
   "source": []
  }
 ],
 "metadata": {
  "kernelspec": {
   "display_name": "Python 3",
   "language": "python",
   "name": "python3"
  },
  "language_info": {
   "codemirror_mode": {
    "name": "ipython",
    "version": 3
   },
   "file_extension": ".py",
   "mimetype": "text/x-python",
   "name": "python",
   "nbconvert_exporter": "python",
   "pygments_lexer": "ipython3",
   "version": "3.8.5"
  }
 },
 "nbformat": 4,
 "nbformat_minor": 4
}
