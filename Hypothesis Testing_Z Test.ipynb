{
 "cells": [
  {
   "cell_type": "code",
   "execution_count": 3,
   "metadata": {},
   "outputs": [
    {
     "name": "stdout",
     "output_type": "stream",
     "text": [
      "0.3\n",
      "ZScore:  1.6666666666666667\n",
      ":Accept Null H0 Hypothesis\n"
     ]
    }
   ],
   "source": [
    "#-----------------------------------Variant 1, SD given SO ONE SAMPLE Z Test\n",
    "import math\n",
    "n=100\n",
    "sample_mean=39\n",
    "SD=3\n",
    "alpha=0.05   #5 percent\n",
    "#Here Standard deviation is given Hence Z test\n",
    "population_mean=38.5\n",
    "ZScore=(sample_mean-population_mean)/(SD/math.sqrt(n))\n",
    "print((SD/math.sqrt(n)))\n",
    "print(\"ZScore: \",ZScore)\n",
    "\n",
    "# to find Zalpha , Do (1-alpha) ,here it is 1-0.05 =0.95 , find this value in Z table.\n",
    "#add x axis and y axis value . Here 1.6+0.05 =1.65\n",
    "# If your alternative hypothesis has < symbol, then its left tailed or vice versa.\n",
    "#Here , its left tailed .Hence Zalpha=  (-)1.65\n",
    "Zalpha=-1.65  #------------------------Edit zalpha here ---------------\n",
    "\n",
    "\n",
    "if(ZScore<Zalpha):\n",
    "    print(\":Reject Null H0 Hypothesis \")\n",
    "else:\n",
    "    print(\":Accept Null H0 Hypothesis\")\n",
    "    \n"
   ]
  },
  {
   "cell_type": "code",
   "execution_count": 2,
   "metadata": {},
   "outputs": [
    {
     "name": "stdout",
     "output_type": "stream",
     "text": [
      "ZScore_1:  -7.284643967679481\n",
      ":Reject Null H0 Hypothesis \n"
     ]
    }
   ],
   "source": [
    "#--------------------------------Variant 2,  TWO SAMPLE  Z TEST\n",
    "n1=36\n",
    "mean1=75\n",
    "SD1=4\n",
    "n2=25\n",
    "mean2=85\n",
    "SD2=6\n",
    "alpha_1=0.05\n",
    "# Find (1-alpha/2) in table , here its 1-(0.05)/2  =0.9750\n",
    "#Now find 0.9750 in table , add x axis value and Y axis value \n",
    "#that is 1.9+0.06 =1.96\n",
    "ZAlpha_1=-1.96   #Negative because alternative hypothesis has !=(Not equal to condition) , i mean, means are not same\n",
    "ZScore_1=(mean1-mean2)/(math.sqrt((SD1**2/n1)+(SD2**2/n2)))\n",
    "print(\"ZScore_1: \",ZScore_1)\n",
    "\n",
    "    \n",
    "\n",
    "if(ZScore_1<Zalpha):\n",
    "    print(\":Reject Null H0 Hypothesis \")\n",
    "else:\n",
    "    print(\":Accept Null H0 Hypothesis\")\n"
   ]
  },
  {
   "cell_type": "code",
   "execution_count": 3,
   "metadata": {},
   "outputs": [
    {
     "name": "stdout",
     "output_type": "stream",
     "text": [
      "Z_Score is :  -1.7500000000000016\n",
      ":Accept Null H0 Hypothesis\n"
     ]
    }
   ],
   "source": [
    "import math\n",
    "#---------------------Z Score when probability is given-----------------\n",
    "population_mean_1=0.80\n",
    "sample_mean_1=0.73               #Mean from sample\n",
    "number_of_samples=100\n",
    "standard_Error_1=math.sqrt((population_mean_1 * (1-population_mean_1))/(number_of_samples))\n",
    "Z_Score_=(sample_mean_1-population_mean_1)/(standard_Error_1)\n",
    "print(\"Z_Score is : \",Z_Score_)\n",
    "alpha_1=0.05\n",
    "ZalphaBy2=-1.96\n",
    "#its two tailed test if your HA doesnt have < or > \n",
    "if(Z_Score_<ZalphaBy2):\n",
    "    print(\":Reject Null H0 Hypothesis \")\n",
    "else:\n",
    "    print(\":Accept Null H0 Hypothesis\")"
   ]
  },
  {
   "cell_type": "code",
   "execution_count": 4,
   "metadata": {},
   "outputs": [
    {
     "name": "stdout",
     "output_type": "stream",
     "text": [
      "Z_Score for Unpaired two Sample test  :  4.264014327112208\n"
     ]
    }
   ],
   "source": [
    "#--------------------------------------Unpaired two Sample test \n",
    "n1=100\n",
    "n2=100\n",
    "p1=70/100\n",
    "p2=40/100\n",
    "p=((p1*n1)+(p2*n2))/(n1+n2)\n",
    "SE=math.sqrt(p*(1-p)*((1/n1)+(1/n2)))\n",
    "z=(p1-p2)/SE\n",
    "print(\"Z_Score for Unpaired two Sample test  : \",z)"
   ]
  }
 ],
 "metadata": {
  "kernelspec": {
   "display_name": "Python 3",
   "language": "python",
   "name": "python3"
  },
  "language_info": {
   "codemirror_mode": {
    "name": "ipython",
    "version": 3
   },
   "file_extension": ".py",
   "mimetype": "text/x-python",
   "name": "python",
   "nbconvert_exporter": "python",
   "pygments_lexer": "ipython3",
   "version": "3.8.5"
  }
 },
 "nbformat": 4,
 "nbformat_minor": 4
}
