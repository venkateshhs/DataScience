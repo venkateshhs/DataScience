{
 "cells": [
  {
   "cell_type": "code",
   "execution_count": 1,
   "metadata": {},
   "outputs": [
    {
     "name": "stdout",
     "output_type": "stream",
     "text": [
      "P_student: 0.6\n",
      "P_other: 0.4\n",
      "P_blue_Given_student: 0.25\n",
      "P_gold_given_student: 0.75\n",
      "P_gold_Given_other: 0.25\n",
      "P_blue_given_other: 0.75\n",
      "P_Gold: 0.5499999999999999\n",
      "P_Blue: 0.45000000000000007\n",
      "P_Student_Given_Blue: 0.33333333333333326\n",
      "P_Student_Given_Gold: 0.8181818181818182\n",
      "P_Other_Given_Blue: 0.6666666666666666\n",
      "P_Other_Given_Gold: 0.18181818181818185\n"
     ]
    }
   ],
   "source": [
    "P_student=0.30  #Star Wars\n",
    "P_other=0.48   #Star Trek\n",
    "P_blue_Given_student=1/4  #Tea_Star Wars\n",
    "P_gold_Given_other=1/4       #Coffe_Star Trek\n",
    "\n",
    "P_gold_given_student=1-P_blue_Given_student\n",
    "P_blue_given_other=1-P_gold_Given_other\n",
    "P_g=(P_gold_given_student * P_student)+(P_gold_Given_other * P_other)\n",
    "P_b=(P_blue_Given_student * P_student)+(P_blue_given_other * P_other)\n",
    "\n",
    "P_Student_Given_Blue=(P_blue_Given_student*P_student)/P_b\n",
    "P_Student_Given_Gold=(P_gold_given_student*P_student)/P_g\n",
    "P_Other_Given_Blue=(P_blue_given_other*P_other)/P_b\n",
    "P_Other_Given_Gold=(P_gold_Given_other*P_other)/P_g\n",
    "\n",
    "print(\"P_student:\",P_student)\n",
    "print(\"P_other:\",P_other)\n",
    "print(\"P_blue_Given_student:\",P_blue_Given_student)\n",
    "print(\"P_gold_given_student:\",P_gold_given_student)\n",
    "print(\"P_gold_Given_other:\",P_gold_Given_other)\n",
    "print(\"P_blue_given_other:\",P_blue_given_other)\n",
    "\n",
    "print(\"P_Gold:\",P_g)\n",
    "print(\"P_Blue:\",P_b)\n",
    "\n",
    "print(\"P_Student_Given_Blue:\",P_Student_Given_Blue)\n",
    "print(\"P_Student_Given_Gold:\",P_Student_Given_Gold)\n",
    "print(\"P_Other_Given_Blue:\",P_Other_Given_Blue)\n",
    "print(\"P_Other_Given_Gold:\",P_Other_Given_Gold)\n",
    "\n",
    "\n"
   ]
  },
  {
   "cell_type": "code",
   "execution_count": null,
   "metadata": {},
   "outputs": [],
   "source": []
  }
 ],
 "metadata": {
  "kernelspec": {
   "display_name": "Python 3",
   "language": "python",
   "name": "python3"
  },
  "language_info": {
   "codemirror_mode": {
    "name": "ipython",
    "version": 3
   },
   "file_extension": ".py",
   "mimetype": "text/x-python",
   "name": "python",
   "nbconvert_exporter": "python",
   "pygments_lexer": "ipython3",
   "version": "3.8.5"
  }
 },
 "nbformat": 4,
 "nbformat_minor": 4
}
