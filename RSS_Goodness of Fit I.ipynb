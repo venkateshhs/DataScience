{
 "cells": [
  {
   "cell_type": "code",
   "execution_count": 1,
   "metadata": {},
   "outputs": [
    {
     "name": "stdout",
     "output_type": "stream",
     "text": [
      "[150, 170, 170, 130, 114, 152, 110]\n",
      "RSS : 6780\n",
      "mean_y 130.0\n",
      "TSS : 12000.0\n",
      "RSquared:  0.43500000000000005\n"
     ]
    }
   ],
   "source": [
    "import numpy as np\n",
    "x=[30,40,40,20,12,31,10]\n",
    "y=[160,160,170,50,110,160,100]\n",
    "predicted_YiCap=[]\n",
    "\n",
    "for i in range(len(x)):\n",
    "    #For given equation ycap=2x+90  and change here -------------\n",
    "    predicted_YiCap.append((2*x[i])+90)\n",
    "print(predicted_YiCap)  \n",
    "\n",
    "#-------------------------------------------RSS----------------\n",
    "RSS=0\n",
    "for i in range(len(y)):\n",
    "    RSS+=np.square(np.subtract(y[i],predicted_YiCap[i]))\n",
    "print(\"RSS :\",RSS)\n",
    "\n",
    "mean_y=np.mean(y)\n",
    "print(\"mean_y\",mean_y)\n",
    "#-------------------------------------------TSS----------------\n",
    "TSS=0\n",
    "for i in range(len(y)):\n",
    "    TSS+=np.square(np.subtract(y[i],mean_y))\n",
    "print(\"TSS :\",TSS)\n",
    "\n",
    "#-------------------------------------------RSquared----------------\n",
    "RSquared=1-(RSS/TSS)\n",
    "print(\"RSquared: \",RSquared)"
   ]
  },
  {
   "cell_type": "code",
   "execution_count": null,
   "metadata": {},
   "outputs": [],
   "source": []
  }
 ],
 "metadata": {
  "kernelspec": {
   "display_name": "Python 3",
   "language": "python",
   "name": "python3"
  },
  "language_info": {
   "codemirror_mode": {
    "name": "ipython",
    "version": 3
   },
   "file_extension": ".py",
   "mimetype": "text/x-python",
   "name": "python",
   "nbconvert_exporter": "python",
   "pygments_lexer": "ipython3",
   "version": "3.8.5"
  }
 },
 "nbformat": 4,
 "nbformat_minor": 4
}
