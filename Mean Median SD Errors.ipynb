{
 "cells": [
  {
   "cell_type": "code",
   "execution_count": 1,
   "metadata": {},
   "outputs": [
    {
     "name": "stdout",
     "output_type": "stream",
     "text": [
      "MEAN: 9.166666666666666\n",
      "MEDIAN : 9.0\n",
      "MODE: ModeResult(mode=array([5]), count=array([1]))\n",
      "Standard Deviation: 2.7938424357067015\n",
      "Variance:  7.8055555555555545\n",
      "ZScore : 1.0141349766622194\n",
      "ZScore : -0.7755149821534615\n",
      "ZScore : -1.491374965679734\n",
      "ZScore : -0.4175849903903253\n",
      "ZScore : 1.3720649684253556\n",
      "ZScore : 0.298274993135947\n",
      "Magnitude of Vector 23.473389188611005\n",
      "MSE : 5.3\n",
      "SSE : 53.0\n",
      "RMSE 2.3021728866442674\n",
      "MAE:  1.7\n"
     ]
    }
   ],
   "source": [
    "from scipy import stats\n",
    "import numpy as np\n",
    "\n",
    "\n",
    "speed = [12,7,5,8,13,10]\n",
    "\n",
    "\n",
    "print(\"MEAN:\", np.mean(speed))\n",
    "print(\"MEDIAN :\",np.median(speed))\n",
    "print(\"MODE:\",stats.mode(speed))\n",
    "\n",
    "print(\"Standard Deviation:\",np.std(speed))\n",
    "print(\"Variance: \",np.var(speed))\n",
    "Norm=0\n",
    "for item in speed:\n",
    "        ZScore=(item-np.mean(speed))/np.std(speed)\n",
    "        print(\"ZScore :\",ZScore)\n",
    "print(\"Magnitude of Vector\",np.linalg.norm(speed))\n",
    "\n",
    "\n",
    "\n",
    "#ERRORS------------------------------------------------------------------\n",
    "Y_true = [1,2,5,4,2,6,1,4,3,3]  # Y_true = Y (original values) \n",
    "  \n",
    "# Calculated values \n",
    "Y_pred = [4,4,3,9,3,3,1,4,2,3]  # Y_pred = Y' \n",
    "  \n",
    "    \n",
    "\n",
    "# Mean Squared Error \n",
    "MSE = np.square(np.subtract(Y_true,Y_pred)).mean() \n",
    "print(\"MSE :\",MSE)\n",
    "\n",
    "print(\"SSE :\",MSE*len(Y_true))\n",
    "\n",
    "print(\"RMSE\",np.sqrt(MSE))\n",
    "\n",
    "print(\"MAE: \",np.absolute(np.subtract(Y_true,Y_pred)).mean())\n",
    "\n",
    "\n",
    "\n",
    "\n",
    "\n"
   ]
  },
  {
   "cell_type": "code",
   "execution_count": null,
   "metadata": {},
   "outputs": [],
   "source": []
  }
 ],
 "metadata": {
  "kernelspec": {
   "display_name": "Python 3",
   "language": "python",
   "name": "python3"
  },
  "language_info": {
   "codemirror_mode": {
    "name": "ipython",
    "version": 3
   },
   "file_extension": ".py",
   "mimetype": "text/x-python",
   "name": "python",
   "nbconvert_exporter": "python",
   "pygments_lexer": "ipython3",
   "version": "3.8.5"
  }
 },
 "nbformat": 4,
 "nbformat_minor": 4
}
