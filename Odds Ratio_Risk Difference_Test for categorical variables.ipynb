{
 "cells": [
  {
   "cell_type": "code",
   "execution_count": 2,
   "metadata": {},
   "outputs": [
    {
     "name": "stdout",
     "output_type": "stream",
     "text": [
      "Odds Ratio:  4.0\n",
      "Your odds of passing the exam are 4 times higher if you attend class Example\n"
     ]
    }
   ],
   "source": [
    "#---------------------ODDS Ratio---------------\n",
    "#------------------------Give input like following \n",
    "#                   Outcome\n",
    "#               +          -\n",
    "#Exposure   +   a          b\n",
    "#           -   c          d\n",
    "a=40\n",
    "b=10\n",
    "c=10\n",
    "d=10\n",
    "OR=(a/b)/(c/d)\n",
    "print(\"Odds Ratio: \",OR)\n",
    "print(\"Your odds of passing the exam are 4 times higher if you attend class Example\")"
   ]
  },
  {
   "cell_type": "code",
   "execution_count": 4,
   "metadata": {},
   "outputs": [
    {
     "name": "stdout",
     "output_type": "stream",
     "text": [
      "Risk Difference:  0.30000000000000004\n",
      "Risk difference between students who attend class and do not attendclass is 0.3\n",
      "Students who attend class have a 30% higher chance to pass the exam\n"
     ]
    }
   ],
   "source": [
    "#---------------Risk Difference\n",
    "RD=((a/(a+b))-(c/(c+d)))\n",
    "print(\"Risk Difference: \",RD)\n",
    "print(\"Risk difference between students who attend class and do not attendclass is 0.3\")\n",
    "print(\"Students who attend class have a 30% higher chance to pass the exam\")"
   ]
  },
  {
   "cell_type": "code",
   "execution_count": 7,
   "metadata": {},
   "outputs": [
    {
     "name": "stdout",
     "output_type": "stream",
     "text": [
      "Xsqaured: 18.0\n"
     ]
    }
   ],
   "source": [
    "#---------------------Test for categorical variables\n",
    "#Does attending class significantly improve your chance of passing the  exam?\n",
    "mean_a=(a+c)/2\n",
    "mean_c=(a+c)/2\n",
    "mean_b=(b+d)/2\n",
    "mean_d=(b+d)/2\n",
    "X2=(a-mean_a)**2/((a+c)/2) + (c-mean_c)**2/((a+c)/2)\n",
    "print(\"Xsqaured:\",X2)"
   ]
  },
  {
   "cell_type": "code",
   "execution_count": null,
   "metadata": {},
   "outputs": [],
   "source": []
  }
 ],
 "metadata": {
  "kernelspec": {
   "display_name": "Python 3",
   "language": "python",
   "name": "python3"
  },
  "language_info": {
   "codemirror_mode": {
    "name": "ipython",
    "version": 3
   },
   "file_extension": ".py",
   "mimetype": "text/x-python",
   "name": "python",
   "nbconvert_exporter": "python",
   "pygments_lexer": "ipython3",
   "version": "3.8.5"
  }
 },
 "nbformat": 4,
 "nbformat_minor": 4
}
