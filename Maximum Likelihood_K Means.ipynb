{
 "cells": [
  {
   "cell_type": "code",
   "execution_count": 1,
   "metadata": {},
   "outputs": [
    {
     "data": {
      "image/png": "[encoded data removed]",
      "text/plain": [
       "<Figure size 432x288 with 1 Axes>"
      ]
     },
     "metadata": {
      "needs_background": "light"
     },
     "output_type": "display_data"
    }
   ],
   "source": [
    "import pandas as pd\n",
    "import matplotlib.pyplot as plt\n",
    "data = pd.read_csv('Clustering_gmm.csv')\n",
    "\n",
    "\n",
    "\n",
    "# training gaussian mixture model \n",
    "from sklearn.mixture import GaussianMixture\n",
    "gmm = GaussianMixture(n_components=4)\n",
    "gmm.fit(data)\n",
    "\n",
    "#predictions from gmm\n",
    "labels = gmm.predict(data)\n",
    "frame = pd.DataFrame(data)\n",
    "frame['cluster'] = labels\n",
    "frame.columns = ['Weight', 'Height', 'cluster']\n",
    "\n",
    "color=['blue','green','cyan', 'black']\n",
    "for k in range(0,4):\n",
    "    data = frame[frame[\"cluster\"]==k]\n",
    "    plt.scatter(data[\"Weight\"],data[\"Height\"],c=color[k])\n",
    "plt.show()"
   ]
  },
  {
   "cell_type": "code",
   "execution_count": 2,
   "metadata": {},
   "outputs": [
    {
     "name": "stdout",
     "output_type": "stream",
     "text": [
      "Likelihood of  1  in cluter  1  is  0.15056871607740221\n",
      "Likelihood of  1  in cluter  2  is  0.01586982591783371\n",
      "Likelihood of  1  in cluter  3  is  0.0001762978411837227\n",
      "Likelihood of  2  in cluter  1  is  0.19333405840142462\n",
      "Likelihood of  2  in cluter  2  is  0.043138659413255766\n",
      "Likelihood of  2  in cluter  3  is  0.001014524028649884\n",
      "Likelihood of  3  in cluter  1  is  0.19333405840142462\n",
      "Likelihood of  3  in cluter  2  is  0.09132454269451096\n",
      "Likelihood of  3  in cluter  3  is  0.0045467812507955264\n",
      "Likelihood of  4  in cluter  1  is  0.15056871607740221\n",
      "Likelihood of  4  in cluter  2  is  0.15056871607740221\n",
      "Likelihood of  4  in cluter  3  is  0.01586982591783371\n",
      "Likelihood of  5  in cluter  1  is  0.09132454269451096\n",
      "Likelihood of  5  in cluter  2  is  0.19333405840142462\n",
      "Likelihood of  5  in cluter  3  is  0.043138659413255766\n",
      "Likelihood of  6  in cluter  1  is  0.043138659413255766\n",
      "Likelihood of  6  in cluter  2  is  0.19333405840142462\n",
      "Likelihood of  6  in cluter  3  is  0.09132454269451096\n",
      "Likelihood of  7  in cluter  1  is  0.01586982591783371\n",
      "Likelihood of  7  in cluter  2  is  0.15056871607740221\n",
      "Likelihood of  7  in cluter  3  is  0.15056871607740221\n",
      "Likelihood of  8  in cluter  1  is  0.0045467812507955264\n",
      "Likelihood of  8  in cluter  2  is  0.09132454269451096\n",
      "Likelihood of  8  in cluter  3  is  0.19333405840142462\n",
      "Likelihood of  9  in cluter  1  is  0.001014524028649884\n",
      "Likelihood of  9  in cluter  2  is  0.043138659413255766\n",
      "Likelihood of  9  in cluter  3  is  0.19333405840142462\n",
      "Likelihood of  10  in cluter  1  is  0.0001762978411837227\n",
      "Likelihood of  10  in cluter  2  is  0.01586982591783371\n",
      "Likelihood of  10  in cluter  3  is  0.15056871607740221\n",
      "{1: (0.15056871607740221, 1), 2: (0.19333405840142462, 1), 3: (0.19333405840142462, 1), 4: (0.15056871607740221, 1), 5: (0.19333405840142462, 2), 6: (0.19333405840142462, 2), 7: (0.15056871607740221, 2), 8: (0.19333405840142462, 3), 9: (0.19333405840142462, 3), 10: (0.15056871607740221, 3)}\n"
     ]
    }
   ],
   "source": [
    "import math\n",
    "import numpy as np\n",
    "datapoints=[1,2,3,4,5,6,7,8,9,10]\n",
    "k=3  #number of clusters \n",
    "#Number of means change based on the K\n",
    "mean_1=2.5\n",
    "mean_2=5.5\n",
    "mean_3=8.5\n",
    "mean=[]\n",
    "mean.append(mean_1)\n",
    "mean.append(mean_2)\n",
    "mean.append(mean_3)\n",
    "SD=2 #-----------------------Its fixed \n",
    "max_={}\n",
    "for each in datapoints:\n",
    "    likelihood_1=[]\n",
    "    for i in range(k):\n",
    "        likelihood=(1/(math.sqrt(2*math.pi*(SD**2)))*math.exp(-((each-mean[i])**2)/(2*(SD**2))))\n",
    "        print(\"Likelihood of \",each,\" in cluter \",i+1,\" is \",likelihood)\n",
    "        likelihood_1.append(likelihood)\n",
    "        max_[each]=max(likelihood_1),likelihood_1.index(max(likelihood_1))+1 \n",
    "print(max_)\n",
    "\n"
   ]
  },
  {
   "cell_type": "code",
   "execution_count": 3,
   "metadata": {},
   "outputs": [
    {
     "name": "stdout",
     "output_type": "stream",
     "text": [
      "new_mean_1: 2.5\n",
      "new_mean_2: 6.0\n",
      "new_mean_3: 9.0\n"
     ]
    }
   ],
   "source": [
    "\n",
    "#------------------Write elements according to classification-----------------------\n",
    "new_list_1=[1,2,3,4]\n",
    "new_list_2=[5,6,7]\n",
    "new_list_3=[8,9,10]\n",
    "\n",
    "new_mean_1=np.mean(new_list_1)\n",
    "new_mean_2=np.mean(new_list_2)\n",
    "new_mean_3=np.mean(new_list_3)\n",
    "print(\"new_mean_1:\",new_mean_1)\n",
    "print(\"new_mean_2:\",new_mean_2)\n",
    "print(\"new_mean_3:\",new_mean_3)"
   ]
  },
  {
   "cell_type": "code",
   "execution_count": 4,
   "metadata": {},
   "outputs": [
    {
     "name": "stdout",
     "output_type": "stream",
     "text": [
      "Likelihood of  1  in cluter  1  is  0.06023\n",
      "Likelihood of  1  in cluter  2  is  0.00317\n",
      "Likelihood of  1  in cluter  3  is  7e-05\n",
      "Likelihood of  2  in cluter  1  is  0.07733\n",
      "Likelihood of  2  in cluter  2  is  0.00863\n",
      "Likelihood of  2  in cluter  3  is  0.00041\n",
      "Likelihood of  3  in cluter  1  is  0.07733\n",
      "Likelihood of  3  in cluter  2  is  0.01826\n",
      "Likelihood of  3  in cluter  3  is  0.00182\n",
      "Likelihood of  4  in cluter  1  is  0.06023\n",
      "Likelihood of  4  in cluter  2  is  0.03011\n",
      "Likelihood of  4  in cluter  3  is  0.00635\n",
      "Likelihood of  5  in cluter  1  is  0.03653\n",
      "Likelihood of  5  in cluter  2  is  0.03867\n",
      "Likelihood of  5  in cluter  3  is  0.01726\n",
      "Likelihood of  6  in cluter  1  is  0.01726\n",
      "Likelihood of  6  in cluter  2  is  0.03867\n",
      "Likelihood of  6  in cluter  3  is  0.03653\n",
      "Likelihood of  7  in cluter  1  is  0.00635\n",
      "Likelihood of  7  in cluter  2  is  0.03011\n",
      "Likelihood of  7  in cluter  3  is  0.06023\n",
      "Likelihood of  8  in cluter  1  is  0.00182\n",
      "Likelihood of  8  in cluter  2  is  0.01826\n",
      "Likelihood of  8  in cluter  3  is  0.07733\n",
      "Likelihood of  9  in cluter  1  is  0.00041\n",
      "Likelihood of  9  in cluter  2  is  0.00863\n",
      "Likelihood of  9  in cluter  3  is  0.07733\n",
      "Likelihood of  10  in cluter  1  is  7e-05\n",
      "Likelihood of  10  in cluter  2  is  0.00317\n",
      "Likelihood of  10  in cluter  3  is  0.06023\n",
      "{1: (0.06023, 1), 2: (0.07733, 1), 3: (0.07733, 1), 4: (0.06023, 1), 5: (0.03867, 2), 6: (0.03867, 2), 7: (0.06023, 3), 8: (0.07733, 3), 9: (0.07733, 3), 10: (0.06023, 3)}\n"
     ]
    }
   ],
   "source": [
    "#------------------------------Gaussin Mixture Model ------------------PIE IS given , SD is given SLIDE 29 in last lecture\n",
    "given_datapoints=[1,2,3,4,5,6,7,8,9,10]\n",
    "#Based on number of K increase pie also\n",
    "pie_one=4/len(given_datapoints)   #Number of elements in cluster 1\n",
    "pie_two=2/len(given_datapoints)   #Number of elements in cluster 2\n",
    "pie_three=4/len(given_datapoints)  #Number of elements in cluster 3\n",
    "PIE=[]\n",
    "PIE.append(pie_one)\n",
    "PIE.append(pie_two)\n",
    "PIE.append(pie_three)\n",
    "\n",
    "Number_Of_Clusters_k=3  #number of clusters \n",
    "#Number of means change based on the K\n",
    "mean_one=2.5\n",
    "mean_two=5.5\n",
    "mean_three=8.5\n",
    "mean_list=[]\n",
    "mean_list.append(mean_one)\n",
    "mean_list.append(mean_two)\n",
    "mean_list.append(mean_three)\n",
    "SD_1=2\n",
    "SD_2=2\n",
    "SD_3=2\n",
    "SD=[]\n",
    "SD.append(SD_1)\n",
    "SD.append(SD_2)\n",
    "SD.append(SD_3)\n",
    "\n",
    "max_list={}\n",
    "for each in given_datapoints:\n",
    "    likelihood_1=[]\n",
    "    for i in range(Number_Of_Clusters_k):\n",
    "        likelihood=round(PIE[i]*(1/(math.sqrt(2*math.pi*(SD[i]**2)))*math.exp(-((each-mean_list[i])**2)/(2*(SD[i]**2)))),5)\n",
    "        print(\"Likelihood of \",each,\" in cluter \",i+1,\" is \",likelihood)\n",
    "        likelihood_1.append(likelihood)\n",
    "        max_list[each]=max(likelihood_1),likelihood_1.index(max(likelihood_1))+1 \n",
    "print(max_list)\n"
   ]
  },
  {
   "cell_type": "code",
   "execution_count": 5,
   "metadata": {},
   "outputs": [
    {
     "name": "stdout",
     "output_type": "stream",
     "text": [
      "new_mean_1: 2.5\n",
      "new_mean_2: 5.5\n",
      "new_mean_3: 8.5\n",
      "new_pie_one:  0.4\n",
      "new_pie_two:  0.2\n",
      "new_pie_three:  0.4\n",
      "new_std_one: 1.118033988749895\n",
      "new_std_two: 0.5\n",
      "new_std_three: 1.118033988749895\n"
     ]
    }
   ],
   "source": [
    "#------------------Write elements according to classification-----------------------\n",
    "new_list_one=[1,2,3,4]         #Change here\n",
    "new_list_two=[5,6]            #Change here\n",
    "new_list_three=[7,8,9,10]        #Change here\n",
    "\n",
    "new_mean_one=np.mean(new_list_one)\n",
    "new_mean_two=np.mean(new_list_two)\n",
    "new_mean_three=np.mean(new_list_three)\n",
    "\n",
    "new_pie_one=len(new_list_one)/len(given_datapoints)   #Number of elements in cluster 1\n",
    "new_pie_two=len(new_list_two)/len(given_datapoints)   #Number of elements in cluster 2\n",
    "new_pie_three=len(new_list_three)/len(given_datapoints)\n",
    "\n",
    "new_std_one=np.std(new_list_one)\n",
    "new_std_two=np.std(new_list_two)\n",
    "new_std_three=np.std(new_list_three)\n",
    "\n",
    "print(\"new_mean_1:\",new_mean_one)\n",
    "print(\"new_mean_2:\",new_mean_two)\n",
    "print(\"new_mean_3:\",new_mean_three)\n",
    "print(\"new_pie_one: \",new_pie_one)\n",
    "print(\"new_pie_two: \",new_pie_two)\n",
    "print(\"new_pie_three: \",new_pie_three)\n",
    "print(\"new_std_one:\",new_std_one)\n",
    "print(\"new_std_two:\",new_std_two)\n",
    "print(\"new_std_three:\",new_std_three)"
   ]
  },
  {
   "cell_type": "code",
   "execution_count": 8,
   "metadata": {},
   "outputs": [
    {
     "name": "stdout",
     "output_type": "stream",
     "text": [
      "0.0014730446824217443\n"
     ]
    }
   ],
   "source": [
    "print((1/(math.sqrt(2*math.pi*(1.14**2)))*math.exp(-((1-(5.19))**2)/(2*(1.14**2)))))"
   ]
  },
  {
   "cell_type": "code",
   "execution_count": 13,
   "metadata": {},
   "outputs": [
    {
     "name": "stdout",
     "output_type": "stream",
     "text": [
      "0.4010048968591833\n"
     ]
    }
   ],
   "source": [
    "likelihood=likelihood=(1/(math.sqrt(2*math.pi*(0.98**2)))*math.exp(-((5-(4.83))**2)/(2*(0.98**2))))\n",
    "print(likelihood)"
   ]
  },
  {
   "cell_type": "code",
   "execution_count": null,
   "metadata": {},
   "outputs": [],
   "source": []
  }
 ],
 "metadata": {
  "kernelspec": {
   "display_name": "Python 3",
   "language": "python",
   "name": "python3"
  },
  "language_info": {
   "codemirror_mode": {
    "name": "ipython",
    "version": 3
   },
   "file_extension": ".py",
   "mimetype": "text/x-python",
   "name": "python",
   "nbconvert_exporter": "python",
   "pygments_lexer": "ipython3",
   "version": "3.8.5"
  }
 },
 "nbformat": 4,
 "nbformat_minor": 4
}
