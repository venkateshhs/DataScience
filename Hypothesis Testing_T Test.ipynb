{
 "cells": [
  {
   "cell_type": "code",
   "execution_count": 2,
   "metadata": {},
   "outputs": [
    {
     "name": "stdout",
     "output_type": "stream",
     "text": [
      "Difference : [-1, 1, 1, 0, -1, -2, 2, -2]\n",
      "sample_mean : -0.25\n",
      "sample_stadev : 1.4880476182856899\n",
      "Standard Errror : 0.5261042808091512\n",
      "T_Score : -0.4751909633114915\n",
      "To find TCritical DF :  7\n",
      ":Accept Null H0 Hypothesis\n"
     ]
    }
   ],
   "source": [
    "#--------------------------------Variant 1,  TWO GROUP(DEPENDENT/PAIRED -Before and After )  T TEST\n",
    "#------------------No SD Given , n<30\n",
    "import statistics ,math\n",
    "import numpy as np\n",
    "before=[2,3,1,4,6,2,12,8]\n",
    "after=[3,2,0,4,7,4,10,10]\n",
    "alpha=0.05\n",
    "population_Mean=0 #What you write in hypothesis, \n",
    "\n",
    "difference=[]\n",
    "for i in range(len(before)):\n",
    "    difference.append(before[i]-after[i])\n",
    "print(\"Difference :\",difference)\n",
    "\n",
    "sample_mean=statistics.mean(difference)\n",
    "sample_stadev=statistics.stdev(difference)\n",
    "SE=sample_stadev/math.sqrt(len(before))\n",
    "T_Score=(sample_mean-population_Mean)/SE\n",
    "print(\"sample_mean :\",sample_mean)\n",
    "print(\"sample_stadev :\",sample_stadev)\n",
    "print(\"Standard Errror :\",SE)\n",
    "print(\"T_Score :\",T_Score)\n",
    "\n",
    "print(\"To find TCritical DF : \",len(before)-1)\n",
    "#Finding TCritical from T Table\n",
    "#For dependent Group(Before-after)  =sampleSize-1\n",
    "#-----------------------------------df(n-1)=7  x-axis and Y axis=alpha here it is 0.05\n",
    "TCritical=-1.833  # - becuase of left tailed test , i e HA has < 0\n",
    "\n",
    "\n",
    "if(T_Score<TCritical):\n",
    "    print(\":Reject Null H0 Hypothesis \")\n",
    "else:\n",
    "    print(\":Accept Null H0 Hypothesis\")\n"
   ]
  },
  {
   "cell_type": "code",
   "execution_count": 3,
   "metadata": {},
   "outputs": [
    {
     "name": "stdout",
     "output_type": "stream",
     "text": [
      "sample_mean_one : 69\n",
      "sample_stadev_one : 16.963195453687373\n",
      "sample_mean_two : 73\n",
      "sample_stadev_two : 16.565023392678924\n",
      "Standard Errror : 7.544380476068048\n",
      "T_Score : -0.5301959534899683\n",
      "To find TCritical DF :  18\n",
      ":Accept Null H0 Hypothesis\n"
     ]
    }
   ],
   "source": [
    "#--------------------------------Variant 2,  TWO GROUP(INDEPENDENT  ,n1 may not be equal to n2)  T TEST\n",
    "#------------------No SD Given , n<30\n",
    "import statistics ,math\n",
    "group_one=[77,65,73,58,63,49,51,82,103]\n",
    "group_two=[102,72,56,55,83,72,88,70,81,80,44]\n",
    "alpha_1=0.10                      #Change here --------------------------------------\n",
    "population_Mean=0 #What you write in hypothesis, \n",
    "\n",
    "\n",
    "sample_mean_one=statistics.mean(group_one)\n",
    "sample_stadev_one=statistics.stdev(group_one)\n",
    "size_one=len(group_one)\n",
    "sample_mean_two=statistics.mean(group_two)\n",
    "sample_stadev_two=statistics.stdev(group_two)\n",
    "size_two=len(group_two)\n",
    "\n",
    "StandardError=math.sqrt(((sample_stadev_one**2)/size_one)+((sample_stadev_two**2)/size_two))\n",
    "T_Score_1=(sample_mean_one-sample_mean_two)/StandardError\n",
    "print(\"sample_mean_one :\",sample_mean_one)\n",
    "print(\"sample_stadev_one :\",sample_stadev_one)\n",
    "print(\"sample_mean_two :\",sample_mean_two)\n",
    "print(\"sample_stadev_two :\",sample_stadev_two)\n",
    "print(\"Standard Errror :\",StandardError)\n",
    "print(\"T_Score :\",T_Score_1)\n",
    "\n",
    "print(\"To find TCritical DF : \",size_one+size_two-2)\n",
    "#Finding TCritical from T Table\n",
    "#For dependent Group(Before-after)  =sampleSize-1\n",
    "#-----------------------------------df(n1+n2-2)=18  x-axis and Y axis=alpha here it is 0.10\n",
    "TCritical=-1.330   # - becuase of left tailed test , i e HA has < 0\n",
    "\n",
    "\n",
    "if(T_Score<TCritical):\n",
    "    print(\":Reject Null H0 Hypothesis \")\n",
    "else:\n",
    "    print(\":Accept Null H0 Hypothesis\")\n"
   ]
  },
  {
   "cell_type": "code",
   "execution_count": 6,
   "metadata": {},
   "outputs": [
    {
     "name": "stdout",
     "output_type": "stream",
     "text": [
      "mean:  9.166666666666666\n",
      "sample_variance:  9.366666666666667\n",
      "sample_standard_deviation:  3.0605010483034745\n",
      "t_score:  -96.70965829283773\n",
      "Degrees of freedom:  5\n",
      ":Reject Null H0 Hypothesis \n"
     ]
    }
   ],
   "source": [
    "#-----------------------------------Variant 3   SD not given ONE SAMPLE T Test-------EXAM VERSION\n",
    "sample_one=[122,130,120,128,108,133,134,122,115,110]\n",
    "mean=np.mean(sample_one)\n",
    "sample_variance=statistics.variance(sample_one)\n",
    "sample_standard_deviation=statistics.stdev(sample_one)\n",
    "print(\"mean: \",mean)\n",
    "print(\"sample_variance: \",sample_variance)\n",
    "print(\"sample_standard_deviation: \",sample_standard_deviation)\n",
    "\n",
    "alpha_one=0.1\n",
    "given_mean=130          #from  hypothesis or hypothesised mean\n",
    "t_score=(mean-given_mean)/(sample_standard_deviation/math.sqrt(len(sample_one)))\n",
    "print(\"t_score: \",t_score)\n",
    "print(\"Degrees of freedom: \",len(sample_one)-1)\n",
    "\n",
    "Talpha=-1.38     #Since its left tailed .See for df=9 and alpha=0.1\n",
    "if(t_score<Talpha):\n",
    "    print(\":Reject Null H0 Hypothesis \")\n",
    "else:\n",
    "    print(\":Accept Null H0 Hypothesis\")\n"
   ]
  },
  {
   "cell_type": "code",
   "execution_count": null,
   "metadata": {},
   "outputs": [],
   "source": []
  }
 ],
 "metadata": {
  "kernelspec": {
   "display_name": "Python 3",
   "language": "python",
   "name": "python3"
  },
  "language_info": {
   "codemirror_mode": {
    "name": "ipython",
    "version": 3
   },
   "file_extension": ".py",
   "mimetype": "text/x-python",
   "name": "python",
   "nbconvert_exporter": "python",
   "pygments_lexer": "ipython3",
   "version": "3.8.5"
  }
 },
 "nbformat": 4,
 "nbformat_minor": 4
}
