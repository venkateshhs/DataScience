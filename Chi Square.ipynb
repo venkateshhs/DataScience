{
 "cells": [
  {
   "cell_type": "code",
   "execution_count": 8,
   "metadata": {},
   "outputs": [
    {
     "name": "stdout",
     "output_type": "stream",
     "text": [
      "952\n",
      "152210\n",
      "a_expected 159.8844537815126\n",
      "b_expected 158.33718487394958\n",
      "c_expected 172.7783613445378\n",
      "d_expected 150.1155462184874\n",
      "e_expected 148.66281512605042\n",
      "f_expected 162.2216386554622\n",
      "2.472982787491187\n",
      "0.0703359914588842\n",
      "3.1210187297097156\n",
      "2.6339144222520017\n",
      "0.07491317094644716\n",
      "3.3241219008405\n",
      "Chi Square:  11.697287002698737\n",
      "We Reject Null hypothesis\n"
     ]
    }
   ],
   "source": [
    "#---------------------Chi Square---------------\n",
    "#------------------------Give input like following \n",
    "#                   Outcome\n",
    "#               +          -       \n",
    "#Exposure   +   a          b       c     \n",
    "#           -   d          e       f\n",
    "#               g          h       i\n",
    "a=140\n",
    "b=155\n",
    "c=196\n",
    "d=170\n",
    "e=152\n",
    "f=139\n",
    "g=0\n",
    "h=0\n",
    "i=0\n",
    "abc_sum=a+b+c\n",
    "def_sum=d+e+f\n",
    "ghi_sum=g+h+i\n",
    "adg_sum=a+d+g\n",
    "beh_sum=b+e+h\n",
    "cfi_sum=c+f+i\n",
    "total=abc_sum+def_sum+ghi_sum\n",
    "print(total)\n",
    "print(abc_sum*adg_sum)\n",
    "a_expected=(abc_sum*adg_sum)/total\n",
    "b_expected=(abc_sum*beh_sum)/total\n",
    "c_expected=(abc_sum*cfi_sum)/total\n",
    "\n",
    "d_expected=(def_sum*adg_sum)/total\n",
    "e_expected=(def_sum*beh_sum)/total\n",
    "f_expected=(def_sum*cfi_sum)/total\n",
    "\n",
    "g_expected=(ghi_sum*adg_sum)/total\n",
    "h_expected=(ghi_sum*beh_sum)/total\n",
    "i_expected=(ghi_sum*cfi_sum)/total\n",
    "print(\"a_expected\",a_expected)\n",
    "print(\"b_expected\",b_expected)\n",
    "print(\"c_expected\",c_expected)\n",
    "print(\"d_expected\",d_expected)\n",
    "print(\"e_expected\",e_expected)\n",
    "print(\"f_expected\",f_expected)\n",
    "listnames=[]\n",
    "listnames.append(a)\n",
    "listnames.append(b)\n",
    "listnames.append(c)\n",
    "listnames.append(d)\n",
    "listnames.append(e)\n",
    "listnames.append(f)\n",
    "listnames.append(g)\n",
    "listnames.append(h)\n",
    "listnames.append(i)\n",
    "list0removal=[]\n",
    "list0removal.append(a_expected)\n",
    "list0removal.append(b_expected)\n",
    "list0removal.append(c_expected)\n",
    "list0removal.append(d_expected)\n",
    "list0removal.append(e_expected)\n",
    "list0removal.append(f_expected)\n",
    "list0removal.append(g_expected)\n",
    "list0removal.append(h_expected)\n",
    "list0removal.append(i_expected)\n",
    "chi_sqaure=0\n",
    "for i in range(len(list0removal)):\n",
    "    if(list0removal[i]>0):\n",
    "        print((listnames[i]-list0removal[i])**2/(list0removal[i]))\n",
    "        chi_sqaure+=(listnames[i]-list0removal[i])**2/(list0removal[i])    \n",
    "\n",
    "print(\"Chi Square: \",chi_sqaure)\n",
    "#Degree of Freedom =(Number of Rows-1)*(Number Of Columns-1)\n",
    "#Find XCrtitical from Chi square table where DF=2 and p=0.05 get value\n",
    "Xcritical=5.991 #---------------------------------------------------------Change HEre \n",
    "if(chi_sqaure<Xcritical):\n",
    "    print(\"We accept Null hypothesis\")\n",
    "else:\n",
    "    print(\"We Reject Null hypothesis\")\n"
   ]
  },
  {
   "cell_type": "code",
   "execution_count": 2,
   "metadata": {},
   "outputs": [
    {
     "name": "stdout",
     "output_type": "stream",
     "text": [
      "chi_sqaure_exam:  3.451612903225806\n"
     ]
    }
   ],
   "source": [
    "#-------------------------Chi sqaure Exam version-----\n",
    "A=4\n",
    "B=7\n",
    "C=9\n",
    "D=11\n",
    "expected_Frequency=(A+B+C+D)/4      #CHANGE 4 IF THERE ARE MORE VALUES\n",
    "chi_sqaure_exam=(A-expected_Frequency)**2/(expected_Frequency)+(B-expected_Frequency)**2/(expected_Frequency)+(C-expected_Frequency)**2/(expected_Frequency)+(D-expected_Frequency)**2/(expected_Frequency)\n",
    "print(\"chi_sqaure_exam: \",chi_sqaure_exam)"
   ]
  },
  {
   "cell_type": "code",
   "execution_count": null,
   "metadata": {},
   "outputs": [],
   "source": []
  }
 ],
 "metadata": {
  "kernelspec": {
   "display_name": "Python 3",
   "language": "python",
   "name": "python3"
  },
  "language_info": {
   "codemirror_mode": {
    "name": "ipython",
    "version": 3
   },
   "file_extension": ".py",
   "mimetype": "text/x-python",
   "name": "python",
   "nbconvert_exporter": "python",
   "pygments_lexer": "ipython3",
   "version": "3.8.5"
  }
 },
 "nbformat": 4,
 "nbformat_minor": 4
}
