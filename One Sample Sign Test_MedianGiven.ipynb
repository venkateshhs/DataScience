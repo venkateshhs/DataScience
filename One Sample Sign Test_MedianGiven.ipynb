{
 "cells": [
  {
   "cell_type": "code",
   "execution_count": 12,
   "metadata": {},
   "outputs": [
    {
     "name": "stdout",
     "output_type": "stream",
     "text": [
      "positive_sign: 1\n",
      "negative_sign: 7\n",
      "All Probabilities : [0.004, 0.031, 0.109, 0.219, 0.273, 0.219, 0.109, 0.031]\n",
      "total_probability : 0.035\n",
      "total_probability is lesser than alpha hence We reject HO:  0.035\n"
     ]
    }
   ],
   "source": [
    "from math import comb\n",
    "sample_data=[24,11,1,9,19,24,1016,13]\n",
    "hypothesised_Mean_H0=50\n",
    "positive_sign=0\n",
    "negative_sign=0\n",
    "alpha=0.05 # ------------------change here\n",
    "for each in sample_data:\n",
    "    if(each<hypothesised_Mean_H0):\n",
    "        negative_sign+=1\n",
    "    else:\n",
    "        positive_sign+=1\n",
    "print(\"positive_sign:\",positive_sign)\n",
    "print(\"negative_sign:\",negative_sign)\n",
    "#first Choose minimum of positive sign and negative sign . Here its positive sign\n",
    "#find probability of p(total)=p(0)+p(1)  because 1 people prefer A over B (Positive sign)\n",
    "#Find this probability from binomial distribution table\n",
    "#p(total) < given alpha , reject H0\n",
    "#HO :what is given question.\n",
    "#H1 :opposite of H0\n",
    "k_=min(positive_sign,negative_sign)\n",
    "probability=0.5 #Observing head in a fair coin\n",
    "\n",
    "\n",
    "probability_=[]\n",
    "for i in range(len(sample_data)):\n",
    "    probability_.append(round((comb(len(sample_data),i))*(probability**i)*(1-probability)**(len(sample_data)-i),3))\n",
    "print(\"All Probabilities :\",probability_)\n",
    "total_probability_=0\n",
    "for i in range(k_+1):    #Shows probability of 0,1,2,3 heads \n",
    "    total_probability_+=probability_[i]\n",
    "print(\"total_probability :\",total_probability_)\n",
    "if(total_probability_>alpha):\n",
    "    print(\"total_probability is greater hence We cannot reject HO/Accept H0: \",total_probability_)\n",
    "else:\n",
    "    print(\"total_probability is lesser than alpha hence We reject HO: \",total_probability_)\n",
    "\n"
   ]
  },
  {
   "cell_type": "code",
   "execution_count": 13,
   "metadata": {},
   "outputs": [
    {
     "name": "stdout",
     "output_type": "stream",
     "text": [
      "All Probabilities : [0.001, 0.01, 0.044, 0.117, 0.205, 0.246, 0.205, 0.117, 0.044, 0.01]\n",
      "total_probability: 0.172\n",
      "total_probability is greater hence We cannot reject HO/Accept H0:  0.172\n"
     ]
    }
   ],
   "source": [
    "#--------------------Using Probability---------\n",
    "from math import comb\n",
    "n=10  #Number of trials\n",
    "k=3  #Number of heads   ,See if its less than 3 or 3 or less \n",
    "p=0.5 #Observing head in a fair coin\n",
    "\n",
    "alpha=0.05   #Should be given in question\n",
    "\n",
    "probability=[]\n",
    "for i in range(n):\n",
    "    probability.append(round((comb(n,i))*(p**i)*(1-p)**(n-i),3))\n",
    "print(\"All Probabilities :\",probability)\n",
    "total_probability=0\n",
    "for i in range(k+1):    #Shows probability of 0,1,2,3 heads \n",
    "    total_probability+=probability[i]\n",
    "print(\"total_probability:\",total_probability)\n",
    "if(total_probability>alpha):\n",
    "    print(\"total_probability is greater hence We cannot reject HO/Accept H0: \",total_probability)\n",
    "else:\n",
    "    print(\"total_probability is lesser hence We can reject HO: \",total_probability)"
   ]
  },
  {
   "cell_type": "code",
   "execution_count": null,
   "metadata": {},
   "outputs": [],
   "source": []
  },
  {
   "cell_type": "code",
   "execution_count": null,
   "metadata": {},
   "outputs": [],
   "source": []
  }
 ],
 "metadata": {
  "kernelspec": {
   "display_name": "Python 3",
   "language": "python",
   "name": "python3"
  },
  "language_info": {
   "codemirror_mode": {
    "name": "ipython",
    "version": 3
   },
   "file_extension": ".py",
   "mimetype": "text/x-python",
   "name": "python",
   "nbconvert_exporter": "python",
   "pygments_lexer": "ipython3",
   "version": "3.8.5"
  }
 },
 "nbformat": 4,
 "nbformat_minor": 4
}
