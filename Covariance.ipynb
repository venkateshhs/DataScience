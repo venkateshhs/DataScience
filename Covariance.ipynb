{
 "cells": [
  {
   "cell_type": "code",
   "execution_count": 1,
   "metadata": {},
   "outputs": [
    {
     "name": "stdout",
     "output_type": "stream",
     "text": [
      "Covariance of x1 and y1:  355.7142857142857\n"
     ]
    }
   ],
   "source": [
    "import statistics\n",
    "import numpy as np\n",
    "\n",
    "x1=[30,40,40,20,12,31,10]\n",
    "y1=[160,160,170,50,110,160,100]\n",
    "x1_mean=statistics.mean(x1)\n",
    "y1_mean=statistics.mean(y1)\n",
    "cov_x1_y1=0\n",
    "total=0\n",
    "for i in range(len(x1)):\n",
    "    total+=(x1[i]-x1_mean)*(y1[i]-y1_mean)\n",
    "cov_x1_y1=total/len(x1)\n",
    "print(\"Covariance of x1 and y1: \",cov_x1_y1)"
   ]
  },
  {
   "cell_type": "code",
   "execution_count": 2,
   "metadata": {},
   "outputs": [
    {
     "name": "stdout",
     "output_type": "stream",
     "text": [
      "pearson_coeff:  0.6420454962220404\n"
     ]
    }
   ],
   "source": [
    "#-------------------------Pearsons Coefficient--------\n",
    "#-----------------NOT CORRECT--------------------------------------------------------\n",
    "x1_std=statistics.stdev(x1)\n",
    "y1_std=statistics.stdev(y1)\n",
    "pearson_coeff=cov_x1_y1/(x1_std*y1_std)\n",
    "print(\"pearson_coeff: \",pearson_coeff)"
   ]
  },
  {
   "cell_type": "code",
   "execution_count": null,
   "metadata": {},
   "outputs": [],
   "source": []
  }
 ],
 "metadata": {
  "kernelspec": {
   "display_name": "Python 3",
   "language": "python",
   "name": "python3"
  },
  "language_info": {
   "codemirror_mode": {
    "name": "ipython",
    "version": 3
   },
   "file_extension": ".py",
   "mimetype": "text/x-python",
   "name": "python",
   "nbconvert_exporter": "python",
   "pygments_lexer": "ipython3",
   "version": "3.8.5"
  }
 },
 "nbformat": 4,
 "nbformat_minor": 4
}
