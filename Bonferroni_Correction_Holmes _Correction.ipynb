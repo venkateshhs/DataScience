{
 "cells": [
  {
   "cell_type": "code",
   "execution_count": 1,
   "metadata": {},
   "outputs": [
    {
     "name": "stdout",
     "output_type": "stream",
     "text": [
      "New Alpha:  0.0125\n",
      "0.0003  is significant\n",
      "For:  3  binary_Varibale,Number of tests possible=  7 ,Chances of type one error is : 0.3016627039062503\n"
     ]
    }
   ],
   "source": [
    "from math import comb\n",
    "#----------------------Bonforroni Correction------------------------------------------\n",
    "alpha=0.05\n",
    "coefficients=[0.055,0.0003,0.1,0.070] #Input values here \n",
    "def bonforroni(coefficients):\n",
    "    new_alpha=alpha/len(coefficients)\n",
    "    print(\"New Alpha: \",new_alpha)\n",
    "    for each in coefficients:\n",
    "        if(each<=new_alpha):\n",
    "            print(each,\" is significant\")\n",
    "        \n",
    "bonforroni(coefficients)        \n",
    "binary_Varibale=3\n",
    "number_of_tests=(2**binary_Varibale)-1\n",
    "chance_of_type_1_error=1-(0.95)**number_of_tests   #change 0.95 here if something else is given\n",
    "print(\"For: \",binary_Varibale,\" binary_Varibale,Number of tests possible= \",number_of_tests,\",Chances of type one error is :\",chance_of_type_1_error)"
   ]
  },
  {
   "cell_type": "code",
   "execution_count": 26,
   "metadata": {},
   "outputs": [
    {
     "name": "stdout",
     "output_type": "stream",
     "text": [
      "Corrected P values for : 0.04  is  0.04\n",
      "Corrected P values for : 0.03  is  0.06\n",
      "Corrected P values for : 0.01  is  0.03\n",
      "Corrected P values for : 0.005  is  0.02\n",
      "New Alpha:  0.0125\n"
     ]
    }
   ],
   "source": [
    "#------------------Holms Correction\n",
    "p_value=[0.01,0.04,0.03,0.005]\n",
    "p_value.sort(reverse=True)\n",
    "corrected_p_value=[]\n",
    "count=1\n",
    "for each in p_value:\n",
    "    corrected_p_value.append(each*count)\n",
    "    print(\"Corrected P values for :\",each,\" is \",each*count)\n",
    "    count+=1\n",
    "bonforroni(corrected_p_value)"
   ]
  },
  {
   "cell_type": "code",
   "execution_count": null,
   "metadata": {},
   "outputs": [],
   "source": []
  }
 ],
 "metadata": {
  "kernelspec": {
   "display_name": "Python 3",
   "language": "python",
   "name": "python3"
  },
  "language_info": {
   "codemirror_mode": {
    "name": "ipython",
    "version": 3
   },
   "file_extension": ".py",
   "mimetype": "text/x-python",
   "name": "python",
   "nbconvert_exporter": "python",
   "pygments_lexer": "ipython3",
   "version": "3.8.5"
  }
 },
 "nbformat": 4,
 "nbformat_minor": 4
}
